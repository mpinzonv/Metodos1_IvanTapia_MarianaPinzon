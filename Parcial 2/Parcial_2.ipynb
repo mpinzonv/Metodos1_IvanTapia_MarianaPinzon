{
 "cells": [
  {
   "cell_type": "code",
   "execution_count": 76,
   "metadata": {},
   "outputs": [],
   "source": [
    "import numpy as np\n",
    "import matplotlib.pyplot as plt\n",
    "import sympy as sym"
   ]
  },
  {
   "cell_type": "code",
   "execution_count": 75,
   "metadata": {},
   "outputs": [
    {
     "data": {
      "text/latex": [
       "$\\displaystyle a_{00} + a_{01} y + a_{10} x + a_{11} x y$"
      ],
      "text/plain": [
       "a00 + a01*y + a10*x + a11*x*y"
      ]
     },
     "execution_count": 75,
     "metadata": {},
     "output_type": "execute_result"
    }
   ],
   "source": [
    "T=lambda x,y,P: P[0]+P[1]*x+P[2]*y+P[3]*x*y\n",
    "x=sym.Symbol('x',Real=True)\n",
    "y=sym.Symbol('y',Real=True)\n",
    "a00=sym.Symbol('a00',Real=True)\n",
    "a01=sym.Symbol('a01',Real=True)\n",
    "a10=sym.Symbol('a10',Real=True)\n",
    "a11=sym.Symbol('a11',Real=True)\n",
    "\n",
    "matriz_A=np.array([[a00,a01],[a10,a11]])\n",
    "respuesta=0\n",
    "for i in range(2):\n",
    "    for j in range(2):\n",
    "        respuesta+=matriz_A[i][j]*x**i*y**j\n",
    "respuesta\n"
   ]
  },
  {
   "cell_type": "code",
   "execution_count": 77,
   "metadata": {},
   "outputs": [
    {
     "name": "stdout",
     "output_type": "stream",
     "text": [
      "[[ 1.  1.]\n",
      " [-1.  1.]\n",
      " [-1. -1.]\n",
      " [ 1. -1.]]\n"
     ]
    }
   ],
   "source": [
    "position=np.zeros((4,2))\n",
    "position[0]=np.array([1,1])\n",
    "position[1]=np.array([-1,1])\n",
    "position[2]=np.array([-1,-1])\n",
    "position[3]=np.array([1,-1])\n",
    "print(position)\n"
   ]
  },
  {
   "cell_type": "code",
   "execution_count": 79,
   "metadata": {},
   "outputs": [
    {
     "data": {
      "image/png": "[encoded data removed]",
      "text/plain": [
       "<Figure size 640x480 with 1 Axes>"
      ]
     },
     "metadata": {},
     "output_type": "display_data"
    },
    {
     "name": "stdout",
     "output_type": "stream",
     "text": [
      "1.225\n"
     ]
    }
   ],
   "source": [
    "temp=np.array([1,2,0.5,0.3])\n",
    "\n",
    "def interpolacion(vertices):\n",
    "    matriz=np.zeros([4,4])\n",
    "    for i in range(len(vertices)):\n",
    "        matriz[i]=np.array([1,vertices[i][0],vertices[i][1],vertices[i][0]*vertices[i][1]])\n",
    "    return(np.linalg.solve(matriz,temp.T))\n",
    "coef=interpolacion(position)\n",
    "\n",
    "X=np.linspace(-1,1,100)\n",
    "Y=np.linspace(-1,1,100)\n",
    "X,Y=np.meshgrid(X,Y)\n",
    "Z=X.copy()\n",
    "\n",
    "for i in range(X.shape[0]):\n",
    "    for j in range(X.shape[1]):\n",
    "        Z[i,j]=T(X[i,j],Y[i,j],coef)\n",
    "\n",
    "fig = plt.figure()\n",
    "ax = fig.add_subplot(1,1,1)\n",
    "ax.pcolor(X,Y,Z,cmap='coolwarm')\n",
    "ax.set_xlabel('X')\n",
    "ax.set_ylabel(\"Y\")\n",
    "plt.show()\n",
    "print(T(0,0.5,coef))"
   ]
  },
  {
   "cell_type": "code",
   "execution_count": 80,
   "metadata": {},
   "outputs": [
    {
     "name": "stdout",
     "output_type": "stream",
     "text": [
      "La temperatura en K para [0,0,5] con una rotacion de pi radianes es:  0.6749999999999999\n"
     ]
    }
   ],
   "source": [
    "\n",
    "def rotacion(posicion,angulo):\n",
    "    matriz=np.zeros([2,2])\n",
    "    matriz[0]=np.array([np.cos(angulo),np.sin(-angulo)])\n",
    "    matriz[1]=np.array([np.sin(angulo),np.cos(angulo)])\n",
    "    nueva_pos=np.dot(matriz,posicion)\n",
    "    return(nueva_pos)\n",
    "\n",
    "def rotacion_angulo(position,angulo):\n",
    "    nueva_pos=np.zeros([4,2])\n",
    "    for i in range(len(position)):\n",
    "        nueva_pos[i]=rotacion(position[i],angulo)\n",
    "    return(nueva_pos)\n",
    "\n",
    "nuevos_coef=(interpolacion(rotacion_angulo(position,np.pi)))\n",
    "temperatura_rotacion_pi=T(0,0.5,nuevos_coef)\n",
    "print(\"La temperatura en K para [0,0,5] con una rotacion de pi radianes es: \",temperatura_rotacion_pi)"
   ]
  },
  {
   "cell_type": "code",
   "execution_count": 81,
   "metadata": {},
   "outputs": [
    {
     "name": "stdout",
     "output_type": "stream",
     "text": [
      "El angulo para el cual la temperatura es minima es para 2.652198823131082 con una temperatura de 0.6367664129532491K\n"
     ]
    }
   ],
   "source": [
    "tetha=np.linspace(0,2*np.pi,200)\n",
    "matriz_solucion=np.stack((tetha.T,np.zeros(len(tetha)).T),axis=-1)\n",
    "for m in range(len(tetha)):\n",
    "    matriz_solucion[m,1]=T(0,0.5,interpolacion(rotacion_angulo(position,tetha[m])))\n",
    "minimo=(np.argmin(matriz_solucion[:,1]))\n",
    "valor_minimo=(matriz_solucion[minimo])\n",
    "print(f'El angulo para el cual la temperatura es minima es para {valor_minimo[0]} con una temperatura de {valor_minimo[1]}K')\n",
    "\n"
   ]
  }
 ],
 "metadata": {
  "kernelspec": {
   "display_name": "Python 3.9.13 64-bit (microsoft store)",
   "language": "python",
   "name": "python3"
  },
  "language_info": {
   "codemirror_mode": {
    "name": "ipython",
    "version": 3
   },
   "file_extension": ".py",
   "mimetype": "text/x-python",
   "name": "python",
   "nbconvert_exporter": "python",
   "pygments_lexer": "ipython3",
   "version": "3.9.13"
  },
  "orig_nbformat": 4,
  "vscode": {
   "interpreter": {
    "hash": "024acba01fff9e6567a051a76825b480e2d147032a9511c0a7453d57611a6c2c"
   }
  }
 },
 "nbformat": 4,
 "nbformat_minor": 2
}

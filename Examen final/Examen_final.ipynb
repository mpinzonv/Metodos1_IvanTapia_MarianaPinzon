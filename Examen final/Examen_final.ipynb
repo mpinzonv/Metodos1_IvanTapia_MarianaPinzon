{
  "cells": [
    {
      "cell_type": "code",
      "execution_count": 12,
      "metadata": {
        "id": "OZqscDnJFtUe"
      },
      "outputs": [],
      "source": [
        "import numpy as np \n",
        "import matplotlib.pyplot as plt\n",
        "from itertools import permutations\n",
        "from itertools import combinations\n",
        "from itertools import combinations_with_replacement"
      ]
    },
    {
      "cell_type": "code",
      "execution_count": 13,
      "metadata": {
        "id": "YWEMDolQFtUg"
      },
      "outputs": [],
      "source": [
        "estados=np.array([0,1])#0-Cara;1-Sello\n",
        "priori=np.array([0.2,0.8])\n",
        "T=np.array([[0.8,0.2],[0.2,0.8]])\n",
        "E=np.array([[0.5,0.9],[0.5,0.1]])\n",
        "Obs=np.array([1,0,0,0,1,0,1,0])"
      ]
    },
    {
      "cell_type": "code",
      "execution_count": 14,
      "metadata": {
        "id": "MjsKUzRGFtUh"
      },
      "outputs": [],
      "source": [
        "def GetHiddenStates(States, N):\n",
        "    CStates = list( combinations_with_replacement(States,N))\n",
        "    Permu = []\n",
        "    for it in CStates:\n",
        "        p = list(permutations(it,N))\n",
        "        for i in p:\n",
        "            if i not in Permu:\n",
        "                Permu.append(i)\n",
        "    return np.array(Permu)"
      ]
    },
    {
      "cell_type": "code",
      "execution_count": 15,
      "metadata": {
        "id": "re--bH1qFtUh"
      },
      "outputs": [],
      "source": [
        "def GetProb(T,E,Obs,State,Prior):\n",
        "    n = len(Obs)\n",
        "    p = 1.\n",
        "    p *= Prior[State[0] ]\n",
        "    for i in range(n-1):\n",
        "        p *= T[ State[i+1], State[i] ]\n",
        "    for i in range(n):\n",
        "        p *= E[ Obs[i], State[i] ]\n",
        "    return p"
      ]
    },
    {
      "cell_type": "code",
      "source": [
        "H_Estados=GetHiddenStates(estados,8)\n",
        "dim = len(H_Estados)\n",
        "P = np.zeros(dim)\n",
        "for i in range(dim):\n",
        "    P[i]=GetProb(T,E,Obs,H_Estados[i],priori)\n"
      ],
      "metadata": {
        "id": "2dcXk26zGwrT"
      },
      "execution_count": 16,
      "outputs": []
    },
    {
      "cell_type": "code",
      "source": [
        "PObs = np.sum(P)\n",
        "print(PObs)\n",
        "maxP = np.max(P)\n",
        "ii = np.where( P == np.amax(P))\n",
        "print(H_Estados[ii],maxP)"
      ],
      "metadata": {
        "colab": {
          "base_uri": "https://localhost:8080/"
        },
        "id": "wQO0Bm9NNWUa",
        "outputId": "a54d04eb-1019-471a-e564-835a6860d7fb"
      },
      "execution_count": 17,
      "outputs": [
        {
          "output_type": "stream",
          "name": "stdout",
          "text": [
            "0.0019344381513984013\n",
            "[[1 1 1 1 0 0 0 0]] 0.0001911029760000001\n"
          ]
        }
      ]
    },
    {
      "cell_type": "code",
      "source": [
        "plt.plot(P,color='k',label='Probabilidad por secuencia')\n",
        "plt.axhline(y=maxP,color='r',label='MaxP = 0.002')\n",
        "plt.legend()"
      ],
      "metadata": {
        "colab": {
          "base_uri": "https://localhost:8080/",
          "height": 286
        },
        "id": "ImqOrjAyLXsC",
        "outputId": "66fc6043-0218-4919-9cec-2c2b577aef1d"
      },
      "execution_count": 19,
      "outputs": [
        {
          "output_type": "execute_result",
          "data": {
            "text/plain": [
              "<matplotlib.legend.Legend at 0x7ff61e81ed50>"
            ]
          },
          "metadata": {},
          "execution_count": 19
        },
        {
          "output_type": "display_data",
          "data": {
            "text/plain": [
              "<Figure size 432x288 with 1 Axes>"
            ],
            "image/png": "[encoded data removed]"
          },
          "metadata": {
            "needs_background": "light"
          }
        }
      ]
    },
    {
      "cell_type": "code",
      "source": [
        "EstadosObservados=GetHiddenStates(estados,8)\n",
        "NumeroObs = len(EstadosObservados)\n",
        "ProbaObs = np.zeros(NumeroObs)\n",
        "for j in range(NumeroObs):\n",
        "    ProbaCada = np.zeros(dim)\n",
        "    for i in range(dim):\n",
        "        ProbaCada[i] = GetProb(T,E,EstadosObservados[j],H_Estados[i],priori)\n",
        "    ProbaObs[j] = np.sum(ProbaCada)"
      ],
      "metadata": {
        "id": "fWtahtaiTFPL"
      },
      "execution_count": 8,
      "outputs": []
    },
    {
      "cell_type": "code",
      "source": [
        "plt.plot(ProbaObs)\n",
        "np.sum(ProbaObs)\n",
        "plt.legend([\"Probabilidad de cada estado observable\"])"
      ],
      "metadata": {
        "colab": {
          "base_uri": "https://localhost:8080/",
          "height": 282
        },
        "id": "Dhw_TLbOVg4b",
        "outputId": "024ab5a1-e4f9-498d-cfb3-e1075469c67f"
      },
      "execution_count": 9,
      "outputs": [
        {
          "output_type": "execute_result",
          "data": {
            "text/plain": [
              "<matplotlib.legend.Legend at 0x7ff61f1ab490>"
            ]
          },
          "metadata": {},
          "execution_count": 9
        },
        {
          "output_type": "display_data",
          "data": {
            "text/plain": [
              "<Figure size 432x288 with 1 Axes>"
            ],
            "image/png": "[encoded data removed]"
          },
          "metadata": {
            "needs_background": "light"
          }
        }
      ]
    },
    {
      "cell_type": "code",
      "source": [
        "#El resultado si cambia de acuerdo a la probabilidad a-priori, pues esta distribución es la información previa que se tenía,\n",
        "#lo cual quiere decir que expresa la tendencia hacia los parametros (cara-sello). Por ello, al cambiar estos valores se espera que la tendencia (probabilidades) también cambien para cada caso."
      ],
      "metadata": {
        "id": "zyioKZs_WQQR"
      },
      "execution_count": null,
      "outputs": []
    }
  ],
  "metadata": {
    "kernelspec": {
      "display_name": "Python 3.7.1 64-bit ('PYTHON_SERVER')",
      "language": "python",
      "name": "python3"
    },
    "language_info": {
      "codemirror_mode": {
        "name": "ipython",
        "version": 3
      },
      "file_extension": ".py",
      "mimetype": "text/x-python",
      "name": "python",
      "nbconvert_exporter": "python",
      "pygments_lexer": "ipython3",
      "version": "3.7.1"
    },
    "orig_nbformat": 4,
    "vscode": {
      "interpreter": {
        "hash": "7dd15e51a4470d085f7a243fb04650bc4fe166c7b9d4ae5b8d1a77af89f8b74e"
      }
    },
    "colab": {
      "provenance": []
    }
  },
  "nbformat": 4,
  "nbformat_minor": 0
}

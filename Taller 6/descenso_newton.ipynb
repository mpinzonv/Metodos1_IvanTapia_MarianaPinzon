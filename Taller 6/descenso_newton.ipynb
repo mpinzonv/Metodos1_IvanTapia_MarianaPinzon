{
 "cells": [
  {
   "cell_type": "code",
   "execution_count": 134,
   "metadata": {},
   "outputs": [],
   "source": [
    "import numpy as np\n",
    "import matplotlib.pyplot as plt"
   ]
  },
  {
   "cell_type": "code",
   "execution_count": 133,
   "metadata": {},
   "outputs": [],
   "source": [
    "def Jacobi(G,r,h=1e-6):\n",
    "    longitud = len(G)\n",
    "    J = np.zeros((longitud,longitud))\n",
    "    if longitud==3:\n",
    "        for i in range(longitud):\n",
    "            J[i,0] = (  G[i](r[0]+h,r[1],r[2]) - G[i](r[0]-h,r[1],r[2]) )/(2*h)\n",
    "            J[i,1] = (  G[i](r[0],r[1]+h,r[2]) - G[i](r[0],r[1]-h,r[2]) )/(2*h)\n",
    "            J[i,2] = (  G[i](r[0],r[1],r[2]+h) - G[i](r[0],r[1],r[2]-h) )/(2*h)\n",
    "    elif longitud==2:\n",
    "        for i in range(longitud):\n",
    "            J[i,0] = (  G[i](r[0]+h,r[1]) - G[i](r[0]-h,r[1]) )/(2*h)\n",
    "            J[i,1] = (  G[i](r[0],r[1]+h) - G[i](r[0],r[1]-h) )/(2*h)\n",
    "    return J.T\n",
    "\n",
    "def Vector(G,r):\n",
    "    v = np.zeros(len(G))\n",
    "    for i in range(len(G)):\n",
    "        if len(G)==3:\n",
    "            v[i] = G[i](r[0],r[1],r[2])\n",
    "        else:\n",
    "            v[i] = G[i](r[0],r[1])\n",
    "    return v"
   ]
  },
  {
   "cell_type": "code",
   "execution_count": 137,
   "metadata": {},
   "outputs": [],
   "source": [
    "def descenso(G,r):\n",
    "    return 0.5*np.linalg.norm(Vector(G,r))**2\n",
    "\n",
    "def descenso_gradiente(G,r,nu,max_ite=int(1e5),tol=1e-7):\n",
    "    error_actual=1\n",
    "    ite=0\n",
    "    while error_actual>tol and ite<max_ite:\n",
    "        Valor_F=descenso(G,r)\n",
    "        Jaco=Jacobi(G,r)\n",
    "        Vector_Inicial=Vector(G,r)\n",
    "        r-=nu*np.dot(Jaco,Vector_Inicial)\n",
    "        F_nueva=descenso(G,r)\n",
    "        error_actual=np.abs(Valor_F-F_nueva)/F_nueva\n",
    "        ite+=1\n",
    "    return(r)\n",
    "\n",
    "def Newton(G,r,error=1e-10,itmax=int(1e5)):\n",
    "    error_actual=1\n",
    "    inicial=r\n",
    "    ite=0\n",
    "    while error_actual>error and ite<itmax:\n",
    "        Jaco=Jacobi(G,inicial)\n",
    "        Jaco_inv=np.linalg.inv(Jaco)\n",
    "        Fun=Vector(G,inicial)\n",
    "        nuevo=inicial-np.dot(Jaco_inv,Fun)\n",
    "        error_actual=np.linalg.norm(nuevo-inicial)\n",
    "        inicial=nuevo\n",
    "    return(inicial)\n"
   ]
  },
  {
   "cell_type": "code",
   "execution_count": 141,
   "metadata": {},
   "outputs": [
    {
     "name": "stdout",
     "output_type": "stream",
     "text": [
      "[ 0.49814468 -0.1996059  -0.52882598]\n",
      "[1.77245385 1.77245385]\n",
      "[1.77245385 1.77245385]\n",
      "[ 0.49814468 -0.1996059  -0.52882598]\n"
     ]
    }
   ],
   "source": [
    "G1=(lambda x,y:np.log(x**2+y**2)-np.sin(x*y)-np.log(2)-np.log(np.pi),\\\n",
    "    lambda x,y:np.exp(x-y)+np.cos(x*y))\n",
    "\n",
    "\n",
    "G2=(lambda x,y,z:6*x-2*np.cos(y*z)-1,\\\n",
    "    lambda x,y,z:9*y+np.sqrt(x**2+np.sin(z)+1.06)+0.9,\\\n",
    "    lambda x,y,z:60*z+3*np.exp(-x*y)+10*np.pi-3)\n",
    "\n",
    "print(descenso_gradiente(G2,[0,0,0],nu=1e-4))\n",
    "print(descenso_gradiente(G1,[2,2],nu=1e-4))\n",
    "print(Newton(G1,[2,2]))\n",
    "print(Newton(G2,[0,0,0]))\n"
   ]
  }
 ],
 "metadata": {
  "kernelspec": {
   "display_name": "Python 3.9.13 64-bit (microsoft store)",
   "language": "python",
   "name": "python3"
  },
  "language_info": {
   "codemirror_mode": {
    "name": "ipython",
    "version": 3
   },
   "file_extension": ".py",
   "mimetype": "text/x-python",
   "name": "python",
   "nbconvert_exporter": "python",
   "pygments_lexer": "ipython3",
   "version": "3.9.13"
  },
  "orig_nbformat": 4,
  "vscode": {
   "interpreter": {
    "hash": "024acba01fff9e6567a051a76825b480e2d147032a9511c0a7453d57611a6c2c"
   }
  }
 },
 "nbformat": 4,
 "nbformat_minor": 2
}

{
 "cells": [
  {
   "cell_type": "code",
   "execution_count": 74,
   "metadata": {},
   "outputs": [],
   "source": [
    "import numpy as np"
   ]
  },
  {
   "cell_type": "code",
   "execution_count": 59,
   "metadata": {},
   "outputs": [],
   "source": [
    "def CreateSphere( N, R ):\n",
    "    X = np.zeros(N)\n",
    "    Y = np.zeros(N)\n",
    "    Z = np.zeros(N)\n",
    "    for i in range(N):\n",
    "        u = np.random.rand()\n",
    "        rho = R*u**(1/2)\n",
    "        theta=np.random.uniform(0,2*np.pi)\n",
    "        phi = np.random.uniform(0,np.pi)\n",
    "        X[i] = rho*np.sin(phi)*np.cos(theta)\n",
    "        Y[i] = rho*np.sin(phi)*np.sin(theta)\n",
    "        Z[i] = rho*np.cos(phi)\n",
    "    return X,Y,Z"
   ]
  },
  {
   "cell_type": "code",
   "execution_count": 60,
   "metadata": {},
   "outputs": [],
   "source": [
    "X,Y,Z = CreateSphere(int(1e6),1 )\n"
   ]
  },
  {
   "cell_type": "code",
   "execution_count": 64,
   "metadata": {},
   "outputs": [
    {
     "name": "stdout",
     "output_type": "stream",
     "text": [
      "9.001380434957365 9.02619566197592\n"
     ]
    }
   ],
   "source": [
    "equ=lambda x,y,z: np.exp(np.sqrt(x**2+y**2+z**2))\n",
    "valores=equ(X,Y,Z)\n",
    "integral=9/2*np.average(valores)\n",
    "print(integral,4*np.pi*(np.exp(1)-2))"
   ]
  }
 ],
 "metadata": {
  "kernelspec": {
   "display_name": "Python 3.9.13 64-bit (microsoft store)",
   "language": "python",
   "name": "python3"
  },
  "language_info": {
   "codemirror_mode": {
    "name": "ipython",
    "version": 3
   },
   "file_extension": ".py",
   "mimetype": "text/x-python",
   "name": "python",
   "nbconvert_exporter": "python",
   "pygments_lexer": "ipython3",
   "version": "3.9.13"
  },
  "orig_nbformat": 4,
  "vscode": {
   "interpreter": {
    "hash": "024acba01fff9e6567a051a76825b480e2d147032a9511c0a7453d57611a6c2c"
   }
  }
 },
 "nbformat": 4,
 "nbformat_minor": 2
}

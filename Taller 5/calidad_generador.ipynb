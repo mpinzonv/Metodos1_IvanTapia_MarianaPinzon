{
 "cells": [
  {
   "cell_type": "code",
   "execution_count": 1,
   "metadata": {},
   "outputs": [],
   "source": [
    "import numpy as np"
   ]
  },
  {
   "cell_type": "code",
   "execution_count": 2,
   "metadata": {},
   "outputs": [
    {
     "name": "stdout",
     "output_type": "stream",
     "text": [
      "El coeficiente de corelacion para k=1 es: 0.25085838734856974\n",
      "El coeficiente de corelacion para k=2 es: 0.25216714196293877\n",
      "El coeficiente de corelacion para k=3 es: 0.2507071782974557\n",
      "El coeficiente de corelacion para k=4 es: 0.2525329967788408\n",
      "El coeficiente de corelacion para k=5 es: 0.2524213158604085\n",
      "El coeficiente de corelacion para k=6 es: 0.2515710814174652\n",
      "El coeficiente de corelacion para k=7 es: 0.2513459134982515\n",
      "El coeficiente de corelacion para k=8 es: 0.25126592100327194\n",
      "El coeficiente de corelacion para k=9 es: 0.25250958908110677\n",
      "El coeficiente de corelacion para k=10 es: 0.25200014423602013\n",
      "El coeficiente de corelacion para k=11 es: 0.2526035004364624\n",
      "El coeficiente de corelacion para k=12 es: 0.25193458795896256\n",
      "El coeficiente de corelacion para k=13 es: 0.2515194291950086\n",
      "El coeficiente de corelacion para k=14 es: 0.2525007319793591\n",
      "El coeficiente de corelacion para k=15 es: 0.25223554226553674\n",
      "El coeficiente de corelacion para k=16 es: 0.25101947912058203\n",
      "El coeficiente de corelacion para k=17 es: 0.2528164672957077\n",
      "El coeficiente de corelacion para k=18 es: 0.2524585478747503\n",
      "El coeficiente de corelacion para k=19 es: 0.25275162879357754\n",
      "El coeficiente de corelacion para k=20 es: 0.2513878470254322\n",
      "El coeficiente de corelacion para k=21 es: 0.251619515755709\n",
      "El coeficiente de corelacion para k=22 es: 0.25288771864272563\n",
      "El coeficiente de corelacion para k=23 es: 0.2509037401356127\n",
      "El coeficiente de corelacion para k=24 es: 0.2510778679235603\n",
      "El coeficiente de corelacion para k=25 es: 0.2525910655677302\n",
      "El coeficiente de corelacion para k=26 es: 0.2518409157783309\n",
      "El coeficiente de corelacion para k=27 es: 0.25109601440707124\n",
      "El coeficiente de corelacion para k=28 es: 0.2520494572756159\n",
      "El coeficiente de corelacion para k=29 es: 0.25227511866271646\n",
      "El coeficiente de corelacion para k=30 es: 0.25114947387484315\n"
     ]
    }
   ],
   "source": [
    "vector=np.random.uniform(0,1,int(1e4))\n",
    "\n",
    "def ck(vector_aleatorio,k,N=len(vector)):\n",
    "    multi=vector_aleatorio[:N-k]*vector_aleatorio[k:]\n",
    "    return(np.average(multi))\n",
    "\n",
    "for i in range(1,31):\n",
    "    correlacion=ck(vector,i)\n",
    "    print(f'El coeficiente de corelacion para k={i} es: {correlacion}')"
   ]
  }
 ],
 "metadata": {
  "kernelspec": {
   "display_name": "Python 3.9.13 64-bit (microsoft store)",
   "language": "python",
   "name": "python3"
  },
  "language_info": {
   "codemirror_mode": {
    "name": "ipython",
    "version": 3
   },
   "file_extension": ".py",
   "mimetype": "text/x-python",
   "name": "python",
   "nbconvert_exporter": "python",
   "pygments_lexer": "ipython3",
   "version": "3.9.13"
  },
  "orig_nbformat": 4,
  "vscode": {
   "interpreter": {
    "hash": "024acba01fff9e6567a051a76825b480e2d147032a9511c0a7453d57611a6c2c"
   }
  }
 },
 "nbformat": 4,
 "nbformat_minor": 2
}

{
 "cells": [
  {
   "cell_type": "code",
   "execution_count": 42,
   "metadata": {},
   "outputs": [
    {
     "data": {
      "text/latex": [
       "$\\displaystyle \\frac{x \\left(- 2 h + x\\right) \\left(- h + x\\right)}{6 h^{3}}$"
      ],
      "text/plain": [
       "x*(-2*h + x)*(-h + x)/(6*h**3)"
      ]
     },
     "execution_count": 42,
     "metadata": {},
     "output_type": "execute_result"
    }
   ],
   "source": [
    "import numpy as np\n",
    "import sympy as sym\n",
    "\n",
    "a=sym.Symbol('a',Real=True)\n",
    "b=sym.Symbol('b',Real=True)\n",
    "x=sym.Symbol('x',Real=True)\n",
    "h=sym.Symbol('h',Real=True)\n",
    "interpolador=[0,h,2*h,3*h]\n",
    "def cardinales(interpolador,n):\n",
    "    interpolador_temp=interpolador[:]\n",
    "    interpolador_temp.remove(n)\n",
    "    x=sym.Symbol('x',Real=True)\n",
    "    fun=1\n",
    "    for j in interpolador_temp:\n",
    "        fun*=(x-j)/(n-j)\n",
    "    return(fun)\n",
    "cardinales(interpolador,interpolador[0])\n",
    "cardinales(interpolador,interpolador[1])\n",
    "cardinales(interpolador,interpolador[2])\n",
    "cardinales(interpolador,interpolador[3])"
   ]
  },
  {
   "cell_type": "code",
   "execution_count": 43,
   "metadata": {},
   "outputs": [
    {
     "data": {
      "text/latex": [
       "$\\displaystyle \\frac{9 f(2*h) h}{8} + \\frac{3 f(3*h) h}{8} + \\frac{3 f(a) h}{8} + \\frac{9 f(h) h}{8}$"
      ],
      "text/plain": [
       "9*f(2*h)*h/8 + 3*f(3*h)*h/8 + 3*f(a)*h/8 + 9*f(h)*h/8"
      ]
     },
     "execution_count": 43,
     "metadata": {},
     "output_type": "execute_result"
    }
   ],
   "source": [
    "polinomio=0\n",
    "fa=sym.Symbol('f(a)',Real=True)\n",
    "fb=sym.Symbol('f(h)',Real=True)\n",
    "fc=sym.Symbol('f(2*h)',Real=True)\n",
    "fd=sym.Symbol('f(3*h)',Real=True)\n",
    "funciones=[fa,fb,fc,fd]\n",
    "for i in range(0,len(interpolador)):\n",
    "    poli=cardinales(interpolador,interpolador[i])\n",
    "    I=sym.integrate(poli,(x,0,3*h))\n",
    "    polinomio+=I*funciones[i]\n",
    "polinomio"
   ]
  },
  {
   "cell_type": "code",
   "execution_count": 44,
   "metadata": {},
   "outputs": [
    {
     "data": {
      "text/plain": [
       "(2*a/3 + b/3, a/3 + 2*b/3)"
      ]
     },
     "execution_count": 44,
     "metadata": {},
     "output_type": "execute_result"
    }
   ],
   "source": [
    "h=(b-a)/3\n",
    "intermedio1=a+h\n",
    "intermedio2=a+2*h\n",
    "intermedio1,intermedio2"
   ]
  }
 ],
 "metadata": {
  "kernelspec": {
   "display_name": "Python 3.9.13 64-bit (microsoft store)",
   "language": "python",
   "name": "python3"
  },
  "language_info": {
   "codemirror_mode": {
    "name": "ipython",
    "version": 3
   },
   "file_extension": ".py",
   "mimetype": "text/x-python",
   "name": "python",
   "nbconvert_exporter": "python",
   "pygments_lexer": "ipython3",
   "version": "3.9.13"
  },
  "orig_nbformat": 4,
  "vscode": {
   "interpreter": {
    "hash": "024acba01fff9e6567a051a76825b480e2d147032a9511c0a7453d57611a6c2c"
   }
  }
 },
 "nbformat": 4,
 "nbformat_minor": 2
}
